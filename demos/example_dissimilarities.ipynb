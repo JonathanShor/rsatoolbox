{
 "cells": [
  {
   "cell_type": "markdown",
   "metadata": {},
   "source": [
    "# Estimating dissimilarities\n",
    "\n",
    "These exercises show how to estimate dissimilarities on the dataset object."
   ]
  },
  {
   "cell_type": "code",
   "execution_count": null,
   "metadata": {},
   "outputs": [],
   "source": [
    "# relevant imports\n",
    "import numpy as np\n",
    "from scipy import io\n",
    "import matplotlib.pyplot as plt\n",
    "import pyrsa\n",
    "import pyrsa.data as rsd # abbreviation to deal with dataset\n",
    "import pyrsa.rdm as rsr"
   ]
  },
  {
   "cell_type": "code",
   "execution_count": null,
   "metadata": {},
   "outputs": [],
   "source": [
    "# create a dataset object\n",
    "measurements = io.matlab.loadmat('92imageData/simTruePatterns.mat')\n",
    "measurements = measurements['simTruePatterns']\n",
    "nCond = measurements.shape[0]\n",
    "nVox = measurements.shape[1]\n",
    "# now create a  dataset object\n",
    "des = {'session': 1, 'subj': 1}\n",
    "obs_des = {'conds': np.array(['cond_' + str(x) for x in np.arange(nCond)])}\n",
    "chn_des = {'voxels': np.array(['voxel_' + str(x) for x in np.arange(nVox)])}\n",
    "data = rsd.Dataset(measurements=measurements,\n",
    "                           descriptors=des,\n",
    "                           obs_descriptors=obs_des,\n",
    "                           channel_descriptors=chn_des)"
   ]
  },
  {
   "cell_type": "code",
   "execution_count": null,
   "metadata": {},
   "outputs": [],
   "source": [
    "# calculate an RDM\n",
    "RDM_euc = rsr.calc_rdm(data)\n",
    "RDM_corr = rsr.calc_rdm(data,method='correlation',descriptor='conds')\n",
    "# create an RDM object \n",
    "rdm_des = {'RDM': np.array(['RDM_1'])}\n",
    "RDM_euc2 = rsr.RDMs(RDM_euc.dissimilarities,dissimilarity_measure=RDM_euc.dissimilarity_measure,\\\n",
    "                    descriptors=RDM_euc.descriptors,rdm_descriptors=rdm_des,\\\n",
    "                   pattern_descriptors=obs_des)\n",
    "RDM_euc2"
   ]
  },
  {
   "cell_type": "markdown",
   "metadata": {},
   "source": [
    "Euclidean dissimilarities are the default method for calculating the RDM if no input is provided on the method. See full documentation for explanation on differences between methods.\n",
    "The calculated dissimilarities are saved as a vector of strung-out upper-triangular elements of the RDM matrix. Note also that the RDM object inherits the descriptors from the dataset object."
   ]
  },
  {
   "cell_type": "code",
   "execution_count": null,
   "metadata": {},
   "outputs": [],
   "source": [
    "RDM_euc.dissimilarities # here a vector\n",
    "dist_matrix = RDM_euc.get_matrices()\n",
    "print(dist_matrix)"
   ]
  },
  {
   "cell_type": "markdown",
   "metadata": {},
   "source": [
    "To convert dissimilarities from vectors to matrices and vice versa use the 'get_matrices' and 'get_vectors' options."
   ]
  },
  {
   "cell_type": "code",
   "execution_count": null,
   "metadata": {},
   "outputs": [],
   "source": [
    "# create RDM object for several RDMs"
   ]
  },
  {
   "cell_type": "code",
   "execution_count": null,
   "metadata": {},
   "outputs": [],
   "source": [
    "# make a dataset object with multiple runs and calculate mahalanobis dissimilarities"
   ]
  }
 ],
 "metadata": {
  "kernelspec": {
   "display_name": "Python 3",
   "language": "python",
   "name": "python3"
  },
  "language_info": {
   "codemirror_mode": {
    "name": "ipython",
    "version": 3
   },
   "file_extension": ".py",
   "mimetype": "text/x-python",
   "name": "python",
   "nbconvert_exporter": "python",
   "pygments_lexer": "ipython3",
   "version": "3.8.5"
  }
 },
 "nbformat": 4,
 "nbformat_minor": 2
}
