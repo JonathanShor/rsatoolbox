{
 "cells": [
  {
   "cell_type": "markdown",
   "metadata": {},
   "source": [
    "## Flexible models\n",
    "This toolbox can handle models with fitted model parts. In this demo we will see how this is done.\n",
    "\n",
    "First we need some imports:"
   ]
  },
  {
   "cell_type": "code",
   "execution_count": null,
   "metadata": {},
   "outputs": [],
   "source": [
    "import numpy as np\n",
    "import matplotlib.pyplot as plt\n",
    "import pyrsa"
   ]
  },
  {
   "cell_type": "markdown",
   "metadata": {},
   "source": [
    "As a first step lets generate a few random RDMs, which will serve as our data. We generate 10 RDMs for 5 conditions measured in 20 channels. We will attempt to model these RDMs with a model which takes the first two of these RDMs and is allowed to linearly weight these two. In real applications these model RDMs would of course be generated based on some model or based on some other data than the one we want to fit to."
   ]
  },
  {
   "cell_type": "code",
   "execution_count": null,
   "metadata": {},
   "outputs": [],
   "source": [
    "data = np.random.rand(10, 5, 20)\n",
    "datasets = []\n",
    "for i_dat in range(data.shape[0]):\n",
    "    dataset = pyrsa.data.Dataset(data[i_dat], descriptors={'subj':i_dat})\n",
    "    datasets.append(dataset)\n",
    "    \n",
    "rdms = pyrsa.rdm.calc_rdm(datasets, method='euclidean')\n",
    "\n",
    "model = pyrsa.model.ModelWeighted('testModel', rdms[[0,1]])"
   ]
  },
  {
   "cell_type": "markdown",
   "metadata": {},
   "source": [
    "This model object contains the RDMs we gave it as a basis. Its primary two functions are to predict an RDM given a parameter vector $\\theta$ and to fit the model, i.e. to find a parameter vector $\\theta$ to approximate some data-rdms as closely as possible."
   ]
  },
  {
   "cell_type": "markdown",
   "metadata": {},
   "source": [
    "### Predicting RDMs\n",
    "The model object has two different predict functions: predict and predict_rdm. 'predict' produces a vectorized form of the RDM as a numpy array, which is the minimal representation for computations. 'predict_rdm' produces a typical RDMs object containing the descriptors from the RDMs object passed originally to generate the model object.\n",
    "\n",
    "Our model object takes 2 parameters as input, which are the two weights for the two rdms. As we see below for $\\theta=[1,0]$ and $\\theta=[0,1]$ it will return the original rdms, $\\theta=[1,1]$ will return the sum of the rdms."
   ]
  },
  {
   "cell_type": "code",
   "execution_count": null,
   "metadata": {},
   "outputs": [],
   "source": [
    "# first predicting only the vectors:\n",
    "print('Predicting with theta = [1,0], should return the first rdm, which is:')\n",
    "print(rdms[0].get_vectors())\n",
    "print('The output of the model is:')\n",
    "print(model.predict([1,0]))\n",
    "print('Which is indeed identical')\n",
    "print('')\n",
    "print('Predicting with theta = [0,1], should return the second rdm, which is:')\n",
    "print(rdms[1].get_vectors())\n",
    "print('The output of the model is:')\n",
    "print(model.predict([0,1]))\n",
    "print('Which is indeed identical')\n",
    "print('')\n",
    "print('Predicting with theta = [1,1], should return the sum of the first two rdms, which is:')\n",
    "print(rdms[0].get_vectors() + rdms[1].get_vectors())\n",
    "print('The output of the model is:')\n",
    "print(model.predict([1,1]))\n",
    "print('Which is indeed identical')\n",
    "\n"
   ]
  },
  {
   "cell_type": "code",
   "execution_count": null,
   "metadata": {},
   "outputs": [],
   "source": [
    "# Predicting full rdm objects works the same. Here this illustrated only for the [1,0] case:\n",
    "print('Predicting with theta = [1,0], should return the first rdm, which is:')\n",
    "print(rdms[0])\n",
    "print('The output of the model is:')\n",
    "print(model.predict_rdm([1,0]))\n",
    "print('Which is the same RDM, but lost the rdm_descriptors as it is now formally a combination of the models RDMs')\n"
   ]
  },
  {
   "cell_type": "markdown",
   "metadata": {},
   "source": [
    "### Fitting data\n",
    "To fit data with our model, we use the fitting functions also provided in pyrsa.Model. These functions take a model\n",
    "and some data rdms as input and return an optimal theta value. For a weighted sum model as we created here there are a couple of different fitting algorithms available. Let's try them out:"
   ]
  },
  {
   "cell_type": "code",
   "execution_count": null,
   "metadata": {},
   "outputs": [],
   "source": [
    "# Let's start with a general optimisation function:\n",
    "theta_opt = pyrsa.model.fit_optimize(model, rdms)\n",
    "print('Theta based on optimization:')\n",
    "print(theta_opt)\n",
    "\n",
    "# As we are dealing with a linear weighting model, we can achieve the same fit using \n",
    "# fit_regress, which uses the linear algebra solution to the fitting problem,\n",
    "# which will usually be much faster\n",
    "theta_regress = pyrsa.model.fit_regress(model, rdms)\n",
    "print('Theta based on fit_regress:')\n",
    "print(theta_regress)\n"
   ]
  },
  {
   "cell_type": "markdown",
   "metadata": {},
   "source": [
    "These parameter values are always quite similar, but not identical due to inaccuracy of the optimization.\n",
    "We can use these parameter values and see that the parameter values we found indeed produce very similar rdms:"
   ]
  },
  {
   "cell_type": "code",
   "execution_count": null,
   "metadata": {},
   "outputs": [],
   "source": [
    "# get rdm prediction with the fitted parameters:\n",
    "rdm_opt = model.predict_rdm(theta_opt)\n",
    "rdm_regress = model.predict_rdm(theta_opt)\n",
    "# show rdms:\n",
    "plt.figure(figsize=(10,5))\n",
    "plt.subplot(1,2,1)\n",
    "pyrsa.vis.show_rdm(rdm_opt)\n",
    "plt.subplot(1,2,2)\n",
    "pyrsa.vis.show_rdm(rdm_regress)"
   ]
  },
  {
   "cell_type": "markdown",
   "metadata": {},
   "source": [
    "The model object also has a default fitter attached, which allows us to fit the model using model.fit(data)"
   ]
  },
  {
   "cell_type": "code",
   "execution_count": null,
   "metadata": {},
   "outputs": [],
   "source": [
    "theta_model = model.fit(rdms)\n",
    "print(theta_model)\n",
    "print('the used fitting function was:')\n",
    "print(model.default_fitter)"
   ]
  },
  {
   "cell_type": "markdown",
   "metadata": {},
   "source": [
    "In this case the default fitting function (`model.default_fitter`) is `fit_optimize`, such that the call we just performed results in exactly the same computations as `pyrsa.model.fit_optimize(model, rdms)` did above."
   ]
  },
  {
   "cell_type": "markdown",
   "metadata": {},
   "source": [
    "### Optimization criterion\n",
    "The most important additional input the fitting functions take is `method`, which specifies which comparison method between RDMs is optimized. So far we left this at the default which is the cosine similarity. If we want to optimize a different measure, like the correlation we only need to pass the name:"
   ]
  },
  {
   "cell_type": "code",
   "execution_count": null,
   "metadata": {},
   "outputs": [],
   "source": [
    "# to maximize the correlation instead we can use either of the following:\n",
    "theta_corr_regress = pyrsa.model.fit_regress(model, rdms, method='corr')\n",
    "print(theta_corr_regress)\n",
    "theta_corr_opt = pyrsa.model.fit_optimize(model, rdms, method='corr')\n",
    "print(theta_corr_opt)\n",
    "theta_corr_model = model.fit(rdms, method='corr')\n",
    "print(theta_corr_model)"
   ]
  },
  {
   "cell_type": "markdown",
   "metadata": {},
   "source": [
    "Note that these values are very similar to each other, but differ from the ones we got above when optimizing the cosine similarity."
   ]
  },
  {
   "cell_type": "markdown",
   "metadata": {},
   "source": [
    "As we now know, what criterion was optimized we can also evaluate this criterion to check that the found parameters are indeed better than others. For example, the parameters found to optimize the correlation should yield a higher average correlation to the data rdms, but a lower cosine similarity than the parameters optimized for the cosine similarity."
   ]
  },
  {
   "cell_type": "code",
   "execution_count": null,
   "metadata": {},
   "outputs": [],
   "source": [
    "rdm_cosine = model.predict_rdm(theta_regress)\n",
    "rdm_corr = model.predict_rdm(theta_corr_regress)\n",
    "print('The average correlation for the correlation parameters is:')\n",
    "print(np.mean(pyrsa.rdm.compare(rdm_corr, rdms, 'corr')))\n",
    "print('The average correlation for the cosine similarity parameters is:')\n",
    "print(np.mean(pyrsa.rdm.compare(rdm_cosine, rdms, 'corr')))\n",
    "print('The average cosine similarity for the correlation parameters is:')\n",
    "print(np.mean(pyrsa.rdm.compare(rdm_corr, rdms, 'cosine')))\n",
    "print('The average cosine similarity for the cosine similarity parameters is:')\n",
    "print(np.mean(pyrsa.rdm.compare(rdm_cosine, rdms, 'cosine')))"
   ]
  },
  {
   "cell_type": "markdown",
   "metadata": {},
   "source": [
    "## Crossvalidation"
   ]
  },
  {
   "cell_type": "markdown",
   "metadata": {},
   "source": [
    "## Bootstrap-wrapped crossvalidation"
   ]
  },
  {
   "cell_type": "markdown",
   "metadata": {},
   "source": [
    "## Other model types"
   ]
  },
  {
   "cell_type": "code",
   "execution_count": null,
   "metadata": {},
   "outputs": [],
   "source": []
  }
 ],
 "metadata": {
  "kernelspec": {
   "display_name": "Python 3",
   "language": "python",
   "name": "python3"
  },
  "language_info": {
   "codemirror_mode": {
    "name": "ipython",
    "version": 3
   },
   "file_extension": ".py",
   "mimetype": "text/x-python",
   "name": "python",
   "nbconvert_exporter": "python",
   "pygments_lexer": "ipython3",
   "version": "3.7.9"
  }
 },
 "nbformat": 4,
 "nbformat_minor": 4
}
