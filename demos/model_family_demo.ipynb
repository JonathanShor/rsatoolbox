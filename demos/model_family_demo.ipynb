{
 "cells": [
  {
   "cell_type": "markdown",
   "metadata": {},
   "source": [
    "### Model family graph visualization\n",
    "Here is an example to create a model family using Alexnet layers and display the results in a graph"
   ]
  },
  {
   "cell_type": "code",
   "execution_count": 1,
   "metadata": {},
   "outputs": [],
   "source": [
    "import numpy as np\n",
    "from scipy import io\n",
    "import matplotlib.pyplot as plt\n",
    "import pyrsa\n",
    "from pyrsa.model import ModelFamily"
   ]
  },
  {
   "cell_type": "markdown",
   "metadata": {},
   "source": [
    "### Load model RDMs\n",
    "Here the models are different layers of Alexnet.\n",
    "For each layer, different models of how the fMRI voxels sample the neurons are being considered.\n",
    "\n",
    "The simulated data were generated in Matlab (Kriegeskorte & Diedrichsen 2016). Thus, we load the Matlab files in .mat format.\n",
    "\n",
    "For each model-RDM, we obtain the RDM itself, a model name, and a measurement model name. The model name specifies the layer used to generate the RDM. The measurement model name specifies the applied distortions."
   ]
  },
  {
   "cell_type": "code",
   "execution_count": 2,
   "metadata": {},
   "outputs": [],
   "source": [
    "matlab_data = io.matlab.loadmat('rdms_inferring/modelRDMs_A2020.mat')\n",
    "matlab_data = matlab_data['modelRDMs']\n",
    "n_models = len(matlab_data[0])\n",
    "model_names = [matlab_data[0][i][0][0] for i in range(n_models)]\n",
    "measurement_model = [matlab_data[0][i][1][0] for i in range(n_models)]\n",
    "rdms_array = np.array([matlab_data[0][i][3][0] for i in range(n_models)])\n",
    "model_rdms = pyrsa.rdm.RDMs(rdms_array,\n",
    "                            rdm_descriptors={'brain_computational_model':model_names,\n",
    "                                             'measurement_model':measurement_model},\n",
    "                            dissimilarity_measure='Euclidean'\n",
    "                           )"
   ]
  },
  {
   "cell_type": "markdown",
   "metadata": {},
   "source": [
    "### Load and choose data RDMs\n",
    "Here we use simulated data to demonstrate RSA inference.\n",
    "Since we know the true data-generating model in each case, we can tell when inference fails or succeeds.\n",
    "\n",
    "For each data RDM, we obtain the name of the underlying Layer, a full width at half maximum (FWHM) value and a noise standard deviation. The FWHM value specifies the spatial range the simulated voxels average over. The noise standard deviation specifies how much noise was added to the voxel responses.\n",
    "\n",
    "We then choose which data RDMs we use for the exercise. You can change the representation, the noise level and the amount of averaging by chaning the index values at the beginning.\n",
    "\n",
    "We then convert the chosen data RDMs into an pyrsa RDMs object and display them as we did for the model RDMs."
   ]
  },
  {
   "cell_type": "code",
   "execution_count": 3,
   "metadata": {},
   "outputs": [
    {
     "name": "stdout",
     "output_type": "stream",
     "text": [
      "The chosen ground truth model is:\n",
      "conv3\n",
      "with noise level:\n",
      "3.0\n",
      "with averaging width (full width at half magnitude):\n",
      "0.0\n"
     ]
    }
   ],
   "source": [
    "matlab_data = io.matlab.loadmat('rdms_inferring/noisyModelRDMs_A2020.mat')\n",
    "repr_names_matlab = matlab_data['reprNames']\n",
    "fwhms_matlab = matlab_data['FWHMs']\n",
    "noise_std_matlab = matlab_data['relNoiseStds']\n",
    "rdms_matlab = matlab_data['noisyModelRDMs']\n",
    "repr_names = [repr_names_matlab[i][0][0] for i in range(repr_names_matlab.shape[0])]\n",
    "fwhms = fwhms_matlab.squeeze().astype('float')\n",
    "noise_std = noise_std_matlab.squeeze().astype('float')\n",
    "rdms_matrix = rdms_matlab.squeeze().astype('float')\n",
    "# indices choosing brain-computational model, noise level, and the size of the kernel with which each voxel samples the neural activity\n",
    "i_rep = 2 #np.random.randint(len(repr_names)) \n",
    "i_noise = 1 #np.random.randint(len(noise_std))\n",
    "i_fwhm = 0 #np.random.randint(len(fwhms))\n",
    "\n",
    "# print the chosen representation definition\n",
    "repr_name = repr_names[i_rep]\n",
    "print('The chosen ground truth model is:')\n",
    "print(repr_name)\n",
    "print('with noise level:')\n",
    "print(noise_std[i_noise])\n",
    "print('with averaging width (full width at half magnitude):')\n",
    "print(fwhms[i_fwhm])\n",
    "\n",
    "# put the rdms into an RDMs object and show it\n",
    "rdms_data = pyrsa.rdm.RDMs(rdms_matrix[:, i_rep, i_fwhm, i_noise, :].transpose())"
   ]
  },
  {
   "cell_type": "markdown",
   "metadata": {},
   "source": [
    "### Define fixed models\n",
    "An \"RDM model\" is a pyRSA object that can predict a data RDM.\n",
    "For example, a flexible RDM model may contain a set of predictor RDMs, which predict the data RDM as a weighted combination.\n",
    "Here we use fixed RDM models, which contain just a single RDM with no parameters to be fitted.\n",
    "\n",
    "Models are generated by first choosing the RDM, in this case the one with the right \"brain_computational_model\" and the \"measurement_model\" \"complete\", which corresponds to no distortions added. This object is then passed to the function `pyrsa.model.ModelFixed`, which generates a fixed RDM model. These RDM models are then collected in the list `models`. "
   ]
  },
  {
   "cell_type": "code",
   "execution_count": 4,
   "metadata": {},
   "outputs": [
    {
     "name": "stderr",
     "output_type": "stream",
     "text": [
      "C:\\Users\\kshitij\\Anaconda3\\envs\\dnn2brain_fn\\lib\\site-packages\\numpy\\core\\fromnumeric.py:3335: RuntimeWarning: Mean of empty slice.\n",
      "  out=out, **kwargs)\n",
      "C:\\Users\\kshitij\\Anaconda3\\envs\\dnn2brain_fn\\lib\\site-packages\\numpy\\core\\_methods.py:154: RuntimeWarning: invalid value encountered in true_divide\n",
      "  ret, rcount, out=ret, casting='unsafe', subok=False)\n"
     ]
    }
   ],
   "source": [
    "models = []\n",
    "for i_model in np.unique(model_names):\n",
    "    rdm_m = model_rdms.subset('brain_computational_model', i_model).subset('measurement_model','smooth1rpwavgFeat')\n",
    "    m = pyrsa.model.ModelFixed(i_model, rdm_m)\n",
    "    models.append(m)"
   ]
  },
  {
   "cell_type": "markdown",
   "metadata": {},
   "source": [
    "### Crossvalidation\n",
    "As a first step, we split our data into training and test sets, which should not share either subjects or stimuli. To do so, we split each dimension into k groups and leave one of these groups out as a testset and use all others as training data. Models choose their parameters to maximize performance on the training set and are evaluated on the test set. Additionally a so-called *ceil set* is created, which contains the data from the training subjects for the test stimuli, which is necessary for calculating a noise ceiling.\n",
    "\n",
    "The variables `k_pattern` and `k_rdm` specify how many folds should be formed over stimuli and subjects, respectively."
   ]
  },
  {
   "cell_type": "code",
   "execution_count": 5,
   "metadata": {},
   "outputs": [],
   "source": [
    "train_set, test_set, ceil_set = pyrsa.inference.sets_k_fold(rdms_data, k_pattern=3, k_rdm=4,pattern_descriptor='index')"
   ]
  },
  {
   "cell_type": "markdown",
   "metadata": {},
   "source": [
    "### Create Model Family\n",
    "Here we create model family from first four layers of Alexnet"
   ]
  },
  {
   "cell_type": "code",
   "execution_count": 6,
   "metadata": {},
   "outputs": [],
   "source": [
    "\n",
    "model_family = ModelFamily(models[0:4])"
   ]
  },
  {
   "cell_type": "markdown",
   "metadata": {},
   "source": [
    "### Evaluate model family and plot bars for each family member"
   ]
  },
  {
   "cell_type": "code",
   "execution_count": 7,
   "metadata": {},
   "outputs": [
    {
     "name": "stderr",
     "output_type": "stream",
     "text": [
      "d:\\projects\\fun\\pyrsa\\pyrsa\\util\\inference_util.py:162: RuntimeWarning: invalid value encountered in long_scalars\n",
      "  np.sum(evaluations[:, i_model] == evaluations[:, j_model]))\n",
      "d:\\projects\\fun\\pyrsa\\pyrsa\\vis\\model_plot.py:324: RuntimeWarning: invalid value encountered in less\n",
      "  k_ok = ps < criterion\n",
      "d:\\projects\\fun\\pyrsa\\pyrsa\\vis\\model_plot.py:330: RuntimeWarning: invalid value encountered in less\n",
      "  significant = p_values < crit\n"
     ]
    },
    {
     "data": {
      "image/png": "[encoded data removed]",
      "text/plain": [
       "<Figure size 900x720 with 2 Axes>"
      ]
     },
     "metadata": {
      "needs_background": "light"
     },
     "output_type": "display_data"
    }
   ],
   "source": [
    "results = pyrsa.inference.crossval(model_family.get_all_family_members(), rdms_data, train_set, test_set,\n",
    "                                        ceil_set=ceil_set, method='corr')\n",
    "# plot results\n",
    "pyrsa.vis.plot_model_comparison(results)"
   ]
  },
  {
   "cell_type": "markdown",
   "metadata": {},
   "source": [
    "### visualizing family graph\n",
    "We can visualize the above bar plot in a more convenient way using Graph where each node represents a family member.\n",
    "1. Numbers inside the node represent which layers were selected in that family member. \n",
    "2. We can choose color/area of the node proportional to its performance. \n",
    "3. Edges are always directed towards increase in performance. \n",
    "4. The width of the edges indicates the improvement in performance when going from one node to other"
   ]
  },
  {
   "cell_type": "code",
   "execution_count": 8,
   "metadata": {},
   "outputs": [
    {
     "ename": "TypeError",
     "evalue": "get_node_position() takes 2 positional arguments but 3 were given",
     "output_type": "error",
     "traceback": [
      "\u001b[1;31m---------------------------------------------------------------------------\u001b[0m",
      "\u001b[1;31mTypeError\u001b[0m                                 Traceback (most recent call last)",
      "\u001b[1;32m<ipython-input-8-518dcd9b9500>\u001b[0m in \u001b[0;36m<module>\u001b[1;34m\u001b[0m\n\u001b[0;32m      1\u001b[0m \u001b[1;32mimport\u001b[0m \u001b[0mmatplotlib\u001b[0m \u001b[1;32mas\u001b[0m \u001b[0mmpl\u001b[0m\u001b[1;33m\u001b[0m\u001b[1;33m\u001b[0m\u001b[0m\n\u001b[0;32m      2\u001b[0m \u001b[0mmpl\u001b[0m\u001b[1;33m.\u001b[0m\u001b[0mrcParams\u001b[0m\u001b[1;33m[\u001b[0m\u001b[1;34m'figure.dpi'\u001b[0m\u001b[1;33m]\u001b[0m \u001b[1;33m=\u001b[0m \u001b[1;36m300\u001b[0m\u001b[1;33m\u001b[0m\u001b[1;33m\u001b[0m\u001b[0m\n\u001b[1;32m----> 3\u001b[1;33m \u001b[0mpyrsa\u001b[0m\u001b[1;33m.\u001b[0m\u001b[0mvis\u001b[0m\u001b[1;33m.\u001b[0m\u001b[0mshow_family_graph\u001b[0m\u001b[1;33m(\u001b[0m\u001b[0mmodel_family\u001b[0m\u001b[1;33m,\u001b[0m\u001b[0mresults\u001b[0m\u001b[1;33m,\u001b[0m\u001b[0mnode_property\u001b[0m\u001b[1;33m=\u001b[0m\u001b[1;34m\"color\"\u001b[0m\u001b[1;33m)\u001b[0m\u001b[1;33m\u001b[0m\u001b[1;33m\u001b[0m\u001b[0m\n\u001b[0m",
      "\u001b[1;32md:\\projects\\fun\\pyrsa\\pyrsa\\vis\\modelfamily_graph.py\u001b[0m in \u001b[0;36mshow_family_graph\u001b[1;34m(model_family, results, node_property)\u001b[0m\n\u001b[0;32m    106\u001b[0m         \u001b[0mnode_colors\u001b[0m\u001b[1;33m.\u001b[0m\u001b[0mappend\u001b[0m\u001b[1;33m(\u001b[0m\u001b[0mnode_color\u001b[0m\u001b[1;33m)\u001b[0m\u001b[1;33m\u001b[0m\u001b[1;33m\u001b[0m\u001b[0m\n\u001b[0;32m    107\u001b[0m         \u001b[0mG\u001b[0m\u001b[1;33m.\u001b[0m\u001b[0madd_node\u001b[0m\u001b[1;33m(\u001b[0m\u001b[0mnode_id\u001b[0m\u001b[1;33m)\u001b[0m\u001b[1;33m\u001b[0m\u001b[1;33m\u001b[0m\u001b[0m\n\u001b[1;32m--> 108\u001b[1;33m         \u001b[0mpos\u001b[0m\u001b[1;33m[\u001b[0m\u001b[0mnode_id\u001b[0m\u001b[1;33m]\u001b[0m \u001b[1;33m=\u001b[0m \u001b[0mget_node_position\u001b[0m\u001b[1;33m(\u001b[0m\u001b[0mindex\u001b[0m\u001b[1;33m,\u001b[0m \u001b[0mnum_models\u001b[0m\u001b[1;33m,\u001b[0m \u001b[0mnum_family_members\u001b[0m\u001b[1;33m)\u001b[0m\u001b[1;33m\u001b[0m\u001b[1;33m\u001b[0m\u001b[0m\n\u001b[0m\u001b[0;32m    109\u001b[0m \u001b[1;33m\u001b[0m\u001b[0m\n\u001b[0;32m    110\u001b[0m     \u001b[1;32mfor\u001b[0m \u001b[0mfi1\u001b[0m\u001b[1;33m,\u001b[0m \u001b[0mfamily_member_id1\u001b[0m \u001b[1;32min\u001b[0m \u001b[0menumerate\u001b[0m\u001b[1;33m(\u001b[0m\u001b[0mmodel_family\u001b[0m\u001b[1;33m.\u001b[0m\u001b[0mfamily_list\u001b[0m\u001b[1;33m)\u001b[0m\u001b[1;33m:\u001b[0m\u001b[1;33m\u001b[0m\u001b[1;33m\u001b[0m\u001b[0m\n",
      "\u001b[1;31mTypeError\u001b[0m: get_node_position() takes 2 positional arguments but 3 were given"
     ]
    }
   ],
   "source": [
    "import matplotlib as mpl\n",
    "mpl.rcParams['figure.dpi'] = 300\n",
    "pyrsa.vis.show_family_graph(model_family,results,node_property=\"color\")"
   ]
  },
  {
   "cell_type": "code",
   "execution_count": null,
   "metadata": {},
   "outputs": [],
   "source": [
    "pyrsa.vis.show_family_graph(model_family,results,node_property=\"area\")"
   ]
  },
  {
   "cell_type": "code",
   "execution_count": null,
   "metadata": {},
   "outputs": [],
   "source": []
  }
 ],
 "metadata": {
  "kernelspec": {
   "display_name": "dnn2brain_fn",
   "language": "python",
   "name": "dnn2brain_fn"
  },
  "language_info": {
   "codemirror_mode": {
    "name": "ipython",
    "version": 3
   },
   "file_extension": ".py",
   "mimetype": "text/x-python",
   "name": "python",
   "nbconvert_exporter": "python",
   "pygments_lexer": "ipython3",
   "version": "3.6.10"
  }
 },
 "nbformat": 4,
 "nbformat_minor": 2
}
