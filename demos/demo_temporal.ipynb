{
 "cells": [
  {
   "cell_type": "markdown",
   "metadata": {},
   "source": [
    "# Temporal RSA"
   ]
  },
  {
   "cell_type": "markdown",
   "metadata": {},
   "source": [
    "This demo notebook demonstrates how to work with temporal data in the RSA toolbox\n",
    "\n",
    "\n",
    "So far, it demonstrates how to\n",
    "\n",
    "(1) import temporal dataset into the `rsatoolbox.data.TemporalDataset` class and \n",
    "\n",
    "(2) how to create RDM movies using the `rsatoolbox.rdm.calc_rdm_movie` function\n",
    "\n",
    "The notebook will "
   ]
  },
  {
   "cell_type": "code",
   "execution_count": null,
   "metadata": {},
   "outputs": [],
   "source": [
    "import numpy as np\n",
    "import matplotlib.pyplot as plt\n",
    "import rsatoolbox\n",
    "import pickle\n",
    "\n",
    "from rsatoolbox.rdm import calc_rdm_movie"
   ]
  },
  {
   "cell_type": "markdown",
   "metadata": {},
   "source": [
    "## Load temporal data\n",
    "\n",
    "I here used sample data from mne-python\n",
    "\n",
    "https://mne.tools/dev/overview/datasets_index.html#sample\n",
    "\n",
    "Data is comprised of the preprocessed MEG data in \"sample_audvis_raw.fif\".\n",
    "\n",
    "Preprocessing includes:\n",
    "- downsampling to 60Hz \n",
    "- band-pass filtering between 1 Hz and 20 Hz\n",
    "- rejecting bad trials using an amplitude threshold\n",
    "- baseline correction (basline -200 to 0 ms)\n",
    "\n",
    "*See demos/TemporalSampleData/preproc_mn_sample_data.py*\n",
    "\n",
    "The preprocessed data is stored in *TemporalSampleData/meg_sample_data.pkl*"
   ]
  },
  {
   "cell_type": "code",
   "execution_count": null,
   "metadata": {},
   "outputs": [],
   "source": [
    "dat = pickle.load( open( \"TemporalSampleData/meg_sample_data.pkl\", \"rb\" ) )\n",
    "measurements = dat['data']\n",
    "cond_names = [x for x in dat['cond_names'].keys()]\n",
    "cond_idx = dat['cond_idx']\n",
    "channel_names = dat['channel_names']\n",
    "times = dat['times']"
   ]
  },
  {
   "cell_type": "code",
   "execution_count": null,
   "metadata": {},
   "outputs": [],
   "source": [
    "print('there are %d observations (trials), %d channels, and %d time-points\\n' % \n",
    "      (measurements.shape))\n",
    "\n",
    "print('conditions:')\n",
    "print(cond_names)"
   ]
  },
  {
   "cell_type": "markdown",
   "metadata": {},
   "source": [
    "Plot condition averages for two channels:"
   ]
  },
  {
   "cell_type": "code",
   "execution_count": null,
   "metadata": {},
   "outputs": [],
   "source": [
    "fig, ax = plt.subplots(1, 2, figsize=(12,4))\n",
    "ax = ax.flatten()\n",
    "for jj,chan in enumerate(channel_names[:2]):\n",
    "    for ii, cond_ii in enumerate(np.unique(cond_idx)):\n",
    "        mn = measurements[cond_ii == cond_idx,jj,:].mean(0).squeeze()\n",
    "        ax[jj].plot(times, mn, label = cond_names[ii])\n",
    "        ax[jj].set_title(chan)\n",
    "ax[jj].legend()\n",
    "plt.show()"
   ]
  },
  {
   "cell_type": "markdown",
   "metadata": {},
   "source": [
    "## The `rsatoolbox.data.TemporalDataset` class"
   ]
  },
  {
   "cell_type": "markdown",
   "metadata": {},
   "source": [
    "`measurements` is an `np.array` of shape n_obs x n_channels x n_times\n",
    "\n",
    "`time_descriptor` should contain the time-point vector for the measurements of length n_times. it is recommended to call this descriptor 'time'"
   ]
  },
  {
   "cell_type": "code",
   "execution_count": null,
   "metadata": {},
   "outputs": [],
   "source": [
    "tim_des = {'time': times}"
   ]
  },
  {
   "cell_type": "markdown",
   "metadata": {},
   "source": [
    "the other descriptors are identical as in the `rsatoolbox.data.Dataset` class"
   ]
  },
  {
   "cell_type": "code",
   "execution_count": null,
   "metadata": {},
   "outputs": [],
   "source": [
    "des = {'session': 0, 'subj': 0}\n",
    "obs_des = {'conds': cond_idx}\n",
    "chn_des = {'channels': channel_names}"
   ]
  },
  {
   "cell_type": "code",
   "execution_count": null,
   "metadata": {},
   "outputs": [],
   "source": [
    "data = rsatoolbox.data.TemporalDataset(measurements, \n",
    "                              descriptors = des, \n",
    "                              obs_descriptors = obs_des, \n",
    "                              channel_descriptors = chn_des, \n",
    "                              time_descriptors = tim_des)\n",
    "data.sort_by('conds')"
   ]
  },
  {
   "cell_type": "markdown",
   "metadata": {},
   "source": [
    "### convenience methods"
   ]
  },
  {
   "cell_type": "markdown",
   "metadata": {},
   "source": [
    "`rsatoolbox.data.TemporalDataset` comes with the same convenience methods as `rsatoolbox.data.Dataset`.\n",
    "\n",
    "In addition, the following functions are provided:\n",
    "\n",
    "- `rsatoolbox.data.TemporalDataset.split_time(by)`\n",
    "- `rsatoolbox.data.TemporalDataset.subset_time(by, t_from, t_to)`\n",
    "- `rsatoolbox.data.TemporalDataset.bin_time(by, bins)`\n",
    "- `rsatoolbox.data.TemporalDataset.convert_to_dataset(by)`"
   ]
  },
  {
   "cell_type": "markdown",
   "metadata": {},
   "source": [
    "#### `rsatoolbox.data.TemporalDataset.split_time(by)`\n",
    "\n",
    "splits the `rsatoolbox.data.TemporalDataset` object into a list of n_times `rsatoolbox.data.TemporalDatset` objects, splitting the measurements along the time_descriptor `by`"
   ]
  },
  {
   "cell_type": "code",
   "execution_count": null,
   "metadata": {},
   "outputs": [],
   "source": [
    "print('shape of original measurements')\n",
    "print(data.measurements.shape)\n",
    "\n",
    "data_split_time = data.split_time('time')\n",
    "\n",
    "print('\\nafter splitting')\n",
    "print(len(data_split_time))\n",
    "print(data_split_time[0].measurements.shape)"
   ]
  },
  {
   "cell_type": "markdown",
   "metadata": {},
   "source": [
    "#### `rsatoolbox.data.TemporalDataset.subset_time(by, t_from, t_to)`\n",
    "\n",
    "returns a new `rsatoolbox.data.TemporalDataset` with only the data between where `time_descriptors[by]` is between t_from and t_to"
   ]
  },
  {
   "cell_type": "code",
   "execution_count": null,
   "metadata": {},
   "outputs": [],
   "source": [
    "print('shape of original measurements')\n",
    "print(data.measurements.shape)\n",
    "\n",
    "data_subset_time = data.subset_time('time', t_from = -.1, t_to = .5)\n",
    "\n",
    "print('\\nafter subsetting')\n",
    "print(data_subset_time.measurements.shape)\n",
    "print(data_subset_time.time_descriptors['time'][0])"
   ]
  },
  {
   "cell_type": "markdown",
   "metadata": {},
   "source": [
    "#### `rsatoolbox.data.TemporalDataset.bin_time(by, bins)`\n",
    "\n",
    "returns a new `rsatoolbox.data.TemporalDataset` object with binned temporal data. data within bins is averaged.\n",
    "\n",
    "`bins` is a list or array, where the first dimension contains the bins, and the second dimension the old time-bins that should go into this bin. "
   ]
  },
  {
   "cell_type": "code",
   "execution_count": null,
   "metadata": {},
   "outputs": [],
   "source": [
    "bins = np.reshape(tim_des['time'], [-1, 2])\n",
    "print(len(bins))\n",
    "print(bins[0])"
   ]
  },
  {
   "cell_type": "code",
   "execution_count": null,
   "metadata": {},
   "outputs": [],
   "source": [
    "print('shape of original measurements')\n",
    "print(data.measurements.shape)\n",
    "\n",
    "data_binned = data.bin_time('time', bins=bins)\n",
    "\n",
    "print('\\nafter binning')\n",
    "print(data_binned.measurements.shape)\n",
    "print(data_binned.time_descriptors['time'][0])"
   ]
  },
  {
   "cell_type": "markdown",
   "metadata": {},
   "source": [
    "#### `rsatoolbox.data.TemporalDataset.convert_to_dataset(by)`\n",
    "\n",
    "returns a `rsatoolbox.data.Dataset` object where the time dimension is absorbed into the observation dimension"
   ]
  },
  {
   "cell_type": "code",
   "execution_count": null,
   "metadata": {},
   "outputs": [],
   "source": [
    "print('shape of original measurements')\n",
    "print(data.measurements.shape)\n",
    "\n",
    "data_dataset = data.convert_to_dataset('time')\n",
    "\n",
    "print('\\nafter binning')\n",
    "print(data_dataset.measurements.shape)\n",
    "print(data_dataset.obs_descriptors['time'][0])"
   ]
  },
  {
   "cell_type": "markdown",
   "metadata": {},
   "source": [
    "## create RDM movie"
   ]
  },
  {
   "cell_type": "markdown",
   "metadata": {},
   "source": [
    "the function `calc_rdm_movie` takes `rsatoolbox.data.TemporalDataset` as an input and outputs an RDMs `rsatoolbox.rdm.RDMs` object.\n",
    "It works like `calc_rdm`."
   ]
  },
  {
   "cell_type": "code",
   "execution_count": null,
   "metadata": {},
   "outputs": [],
   "source": [
    "rdms_data = calc_rdm_movie(data, method = 'euclidean', \n",
    "                           descriptor = 'conds')\n",
    "print(rdms_data)"
   ]
  },
  {
   "cell_type": "markdown",
   "metadata": {},
   "source": [
    "Binning can be applied before computing the RDMs by simpling specifying the bins argument"
   ]
  },
  {
   "cell_type": "code",
   "execution_count": null,
   "metadata": {},
   "outputs": [],
   "source": [
    "rdms_data_binned = calc_rdm_movie(data, method = 'euclidean', \n",
    "                           descriptor = 'conds',\n",
    "                           bins=bins)\n",
    "print(rdms_data_binned)"
   ]
  },
  {
   "cell_type": "markdown",
   "metadata": {},
   "source": [
    "## from here on\n",
    "\n",
    "The following are examples for data analysis and plotting with temporal data. So far it uses the functions for non-temporal data of the toolbox. This section should be expanded once new temporal RSA functions are added to the toolbox."
   ]
  },
  {
   "cell_type": "markdown",
   "metadata": {},
   "source": [
    "I here use plotting from the standard plotting function."
   ]
  },
  {
   "cell_type": "code",
   "execution_count": null,
   "metadata": {
    "scrolled": true
   },
   "outputs": [],
   "source": [
    "plt.figure(figsize=(10,15))\n",
    "\n",
    "# add formated time as rdm_descriptor\n",
    "rdms_data_binned.rdm_descriptors['time_formatted'] = ['%0.0f ms' % (np.round(x*1000,2)) for x in rdms_data_binned.rdm_descriptors['time']]\n",
    "\n",
    "rsatoolbox.vis.show_rdm(rdms_data_binned, \n",
    "                   pattern_descriptor='conds',\n",
    "                   rdm_descriptor='time_formatted')"
   ]
  },
  {
   "cell_type": "markdown",
   "metadata": {},
   "source": [
    "## Model rdms"
   ]
  },
  {
   "cell_type": "markdown",
   "metadata": {},
   "source": [
    "This is a simple example with basic model RDMs"
   ]
  },
  {
   "cell_type": "code",
   "execution_count": null,
   "metadata": {},
   "outputs": [],
   "source": [
    "from rsatoolbox.rdm import get_categorical_rdm"
   ]
  },
  {
   "cell_type": "code",
   "execution_count": null,
   "metadata": {},
   "outputs": [],
   "source": [
    "rdms_model_in = get_categorical_rdm(['%d' % x for x in range(4)])\n",
    "rdms_model_lr = get_categorical_rdm(['l','r','l','r'])\n",
    "rdms_model_av = get_categorical_rdm(['a','a','v','v'])\n",
    "\n",
    "model_names = ['independent', 'left/right', 'audio/visual']\n",
    "\n",
    "# append in one RDMs object\n",
    "\n",
    "model_rdms = rdms_model_in\n",
    "model_rdms.append(rdms_model_lr)\n",
    "model_rdms.append(rdms_model_av)\n",
    "\n",
    "model_rdms.rdm_descriptors['model_names'] = model_names\n",
    "model_rdms.pattern_descriptors['cond_names'] = cond_names"
   ]
  },
  {
   "cell_type": "code",
   "execution_count": null,
   "metadata": {},
   "outputs": [],
   "source": [
    "rsatoolbox.vis.show_rdm(model_rdms, rdm_descriptor='model_names', pattern_descriptor = 'cond_names')\n",
    "None"
   ]
  },
  {
   "cell_type": "markdown",
   "metadata": {},
   "source": [
    "## data - model similarity across time"
   ]
  },
  {
   "cell_type": "code",
   "execution_count": null,
   "metadata": {},
   "outputs": [],
   "source": [
    "from rsatoolbox.rdm import compare"
   ]
  },
  {
   "cell_type": "code",
   "execution_count": null,
   "metadata": {},
   "outputs": [],
   "source": [
    "r = []\n",
    "for mod in model_rdms:\n",
    "    r.append(compare(mod, rdms_data_binned, method='cosine'))\n",
    "\n",
    "for i, r_ in enumerate(r):\n",
    "    plt.plot(rdms_data_binned.rdm_descriptors['time'], r_.squeeze(), label=model_names[i])\n",
    "\n",
    "plt.xlabel('time')\n",
    "plt.ylabel('model-data cosine similarity')\n",
    "plt.legend()"
   ]
  }
 ],
 "metadata": {
  "kernelspec": {
   "display_name": "Python 3",
   "language": "python",
   "name": "python3"
  },
  "language_info": {
   "codemirror_mode": {
    "name": "ipython",
    "version": 3
   },
   "file_extension": ".py",
   "mimetype": "text/x-python",
   "name": "python",
   "nbconvert_exporter": "python",
   "pygments_lexer": "ipython3",
   "version": "3.8.5"
  }
 },
 "nbformat": 4,
 "nbformat_minor": 4
}