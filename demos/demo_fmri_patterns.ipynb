{
 "cells": [
  {
   "cell_type": "markdown",
   "metadata": {},
   "source": [
    "# fMRI Demo (premade patterns version)"
   ]
  },
  {
   "cell_type": "markdown",
   "metadata": {},
   "source": [
    "## Introduction\n",
    "\n",
    "This is an example of RSA on a BIDS-structured fMRI dataset. This study is still under review, so we will update this demo to include steps to download the data when it becomes publicly available. \n",
    "\n",
    "Participants (n=14) viewed images of 16 objects, as well as their written name. Several properties of the stimuli were carefully balanced. They also performed several tasks, but for the purposes of this demo we will ignore these."
   ]
  },
  {
   "cell_type": "markdown",
   "metadata": {},
   "source": [
    "![stimuli](demo_fmri_files/mur32_stims.png)"
   ]
  },
  {
   "cell_type": "markdown",
   "metadata": {},
   "source": [
    "This library depends on *nibabel* for convenience functions to access MRI data, and is used separately in the demo as well, so start by installing nibabel (`pip install nibabel`).\n",
    "\n",
    "Then run the following imports:"
   ]
  },
  {
   "cell_type": "code",
   "execution_count": null,
   "metadata": {},
   "outputs": [],
   "source": [
    "%matplotlib inline\n",
    "from os.path import expanduser, join\n",
    "import json\n",
    "import numpy\n",
    "from rsatoolbox.data.dataset import Dataset\n",
    "from rsatoolbox.data.noise import prec_from_residuals\n",
    "from rsatoolbox.rdm.calc import calc_rdm\n",
    "from rsatoolbox.rdm.rdms import concat\n",
    "from rsatoolbox.vis.rdm_plot import show_rdm\n",
    "import matplotlib.pyplot as plt"
   ]
  },
  {
   "cell_type": "markdown",
   "metadata": {},
   "source": [
    "Now we define the path to the BIDS-root data directory"
   ]
  },
  {
   "cell_type": "code",
   "execution_count": null,
   "metadata": {},
   "outputs": [],
   "source": [
    "data_dir = expanduser('~/data/rsatoolbox/mur32/derivatives/nilearn')"
   ]
  },
  {
   "cell_type": "markdown",
   "metadata": {},
   "source": [
    "Next we use a utility function to find the relevant preprocessed BOLD images:"
   ]
  },
  {
   "cell_type": "code",
   "execution_count": null,
   "metadata": {},
   "outputs": [],
   "source": [
    "print('Loading..')\n",
    "with open(join(data_dir, 'meta.json')) as fhandle:\n",
    "    metadata = json.load(fhandle)\n",
    "data = numpy.load(join(data_dir, 'data.npz'))"
   ]
  },
  {
   "cell_type": "code",
   "execution_count": null,
   "metadata": {},
   "outputs": [],
   "source": [
    "\n",
    "subjects = metadata['subjects']\n",
    "conditions = metadata['conditions']\n",
    "dof = metadata['degrees_of_freedom']\n",
    "N_RUNS = 6"
   ]
  },
  {
   "cell_type": "markdown",
   "metadata": {},
   "source": [
    "Let's repeat this for the other runs: (takes about 1min per run). Along the way we also store the MSE residuals for each run."
   ]
  },
  {
   "cell_type": "code",
   "execution_count": null,
   "metadata": {},
   "outputs": [],
   "source": [
    "rdm_list = []\n",
    "for region_name in metadata['region_names']:\n",
    "    for sub in subjects:\n",
    "        print(f'roi {region_name} sub {sub}')\n",
    "\n",
    "        betas = data[f'betas_sub-{sub}_{region_name}']\n",
    "        patterns = betas.reshape(-1, betas.shape[-1])\n",
    "        ds = Dataset(\n",
    "            measurements=patterns,\n",
    "            descriptors=dict(sub=sub, roi=region_name),\n",
    "            obs_descriptors=dict(\n",
    "                run=numpy.repeat(numpy.arange(N_RUNS), len(conditions)),\n",
    "                condition=numpy.tile(conditions, N_RUNS)\n",
    "            )\n",
    "        )\n",
    "\n",
    "        runwise_prec_matrix = []\n",
    "        resids = data[f'resids_sub-{sub}_{region_name}']\n",
    "        for r in range(N_RUNS):\n",
    "            runwise_prec_matrix.append(\n",
    "                prec_from_residuals(\n",
    "                    resids[r, :, :],\n",
    "                    dof=dof,\n",
    "                    method='shrinkage_diag'\n",
    "                )\n",
    "            )\n",
    "\n",
    "        rdm_list.append(\n",
    "            calc_rdm(\n",
    "                dataset=ds,\n",
    "                noise=runwise_prec_matrix,\n",
    "                method='crossnobis',\n",
    "                descriptor='condition',\n",
    "                cv_descriptor='run',\n",
    "            )\n",
    "        )\n",
    "        #raise ValueError\n",
    "        del rdm_list[-1].descriptors['noise']"
   ]
  },
  {
   "cell_type": "code",
   "execution_count": null,
   "metadata": {},
   "outputs": [],
   "source": [
    "data_rdms = concat(rdm_list)"
   ]
  },
  {
   "cell_type": "code",
   "execution_count": null,
   "metadata": {},
   "outputs": [],
   "source": [
    "roi_rdms = data_rdms.subset('roi', 'fusiform')\n",
    "fig, _, _ = show_rdm(\n",
    "    roi_rdms,\n",
    "    rdm_descriptor='sub',\n",
    "    show_colorbar='panel'\n",
    ")"
   ]
  },
  {
   "cell_type": "markdown",
   "metadata": {},
   "source": [
    "## Model"
   ]
  },
  {
   "cell_type": "markdown",
   "metadata": {},
   "source": [
    "Let's map the various stimulus properties of interest on a table"
   ]
  },
  {
   "cell_type": "code",
   "execution_count": null,
   "metadata": {},
   "outputs": [],
   "source": [
    "a_ds = run_datasets[0]\n",
    "obj_conds = numpy.unique(a_ds.obs_descriptors['trial_type']).tolist()\n",
    "INDOOR = ['bagel', 'candle', 'clock', 'glass', 'kettle', 'knife', 'sponge', 'table']\n",
    "STRAIGHT = ['candle', 'knife', 'sponge', 'table', 'spade', 'ladder', 'brick', 'pedal']\n",
    "df = pandas.DataFrame([dict(\n",
    "    trial_type=c,\n",
    "    indoor=float(c.split('_')[1] in INDOOR),\n",
    "    straight=float(c.split('_')[1] in STRAIGHT),\n",
    "    modality=float('image_' in c)\n",
    ") for c in obj_conds])\n",
    "df"
   ]
  },
  {
   "cell_type": "markdown",
   "metadata": {},
   "source": [
    "We can then turn these into Model RDMs"
   ]
  },
  {
   "cell_type": "code",
   "execution_count": null,
   "metadata": {},
   "outputs": [],
   "source": [
    "model_dataset = Dataset.from_df(df)\n",
    "model_dataset.channel_descriptors\n",
    "model_rdms = calc_rdm(\n",
    "    [model_dataset.split_channel('name')],\n",
    "    method='euclidean',\n",
    "    descriptor='trial_type'\n",
    ")\n",
    "model_rdms.rdm_descriptors['name'] = model_dataset.channel_descriptors['name']\n",
    "fig, _, _ = show_rdm(model_rdms, rdm_descriptor='name')\n",
    "matplotlib.pyplot.show()"
   ]
  },
  {
   "cell_type": "markdown",
   "metadata": {},
   "source": [
    "Next, we wrap each of the model RDMs in their own fixed `Model` object."
   ]
  },
  {
   "cell_type": "code",
   "execution_count": null,
   "metadata": {},
   "outputs": [],
   "source": [
    "from rsatoolbox.model.model import ModelFixed\n",
    "\n",
    "models = []\n",
    "for model_name in model_rdms.rdm_descriptors['name']:\n",
    "    model_rdm = model_rdms.subset('name', model_name)\n",
    "    models.append(ModelFixed(model_name, model_rdm))"
   ]
  },
  {
   "cell_type": "markdown",
   "metadata": {},
   "source": [
    "## Inference"
   ]
  },
  {
   "cell_type": "markdown",
   "metadata": {},
   "source": [
    "Let's see how well each of these models explains the fMRI data RDMs"
   ]
  },
  {
   "cell_type": "code",
   "execution_count": null,
   "metadata": {},
   "outputs": [],
   "source": [
    "from rsatoolbox.inference.evaluate import eval_dual_bootstrap\n",
    "\n",
    "eval_result = eval_dual_bootstrap(models, data_rdms)\n",
    "print(eval_result)"
   ]
  },
  {
   "cell_type": "markdown",
   "metadata": {},
   "source": [
    "Next let's plot a comparison of the models:"
   ]
  },
  {
   "cell_type": "code",
   "execution_count": null,
   "metadata": {},
   "outputs": [],
   "source": [
    "from rsatoolbox.vis.model_plot import plot_model_comparison\n",
    "\n",
    "fig, _, _ = plot_model_comparison(eval_result, sort=True)\n",
    "matplotlib.pyplot.show()"
   ]
  },
  {
   "cell_type": "markdown",
   "metadata": {},
   "source": []
  }
 ],
 "metadata": {
  "kernelspec": {
   "display_name": "env",
   "language": "python",
   "name": "python3"
  },
  "language_info": {
   "codemirror_mode": {
    "name": "ipython",
    "version": 3
   },
   "file_extension": ".py",
   "mimetype": "text/x-python",
   "name": "python",
   "nbconvert_exporter": "python",
   "pygments_lexer": "ipython3",
   "version": "3.12.1"
  },
  "orig_nbformat": 4
 },
 "nbformat": 4,
 "nbformat_minor": 2
}
