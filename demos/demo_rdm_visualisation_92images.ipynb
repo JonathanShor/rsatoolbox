{
 "cells": [
  {
   "cell_type": "markdown",
   "metadata": {},
   "source": [
    "# Visualising RDMs with the 92 images dataset"
   ]
  },
  {
   "cell_type": "markdown",
   "metadata": {},
   "source": [
    "This notebook demonstrates how `rsatoolbox.vis.show_rdm` can be used to visualise RDMs. By setting the RDM's pattern_descriptors to `rsatoolbox.vis.Icon` instances it is possible to automatically generate stacked image labels and other custom visualisations."
   ]
  },
  {
   "cell_type": "code",
   "execution_count": null,
   "metadata": {},
   "outputs": [],
   "source": [
    "# imports\n",
    "import matplotlib.pyplot as plt\n",
    "import matplotlib\n",
    "from rsatoolbox import vis\n",
    "from rsatoolbox import rdm\n",
    "import numpy as np\n",
    "import os\n",
    "import inspect\n",
    "import scipy.io\n",
    "from collections import defaultdict"
   ]
  },
  {
   "cell_type": "markdown",
   "metadata": {},
   "source": [
    "## Loading data and building RDMs instance with Icon pattern_descriptors\n",
    "Before we begin, we need to load up the fMRI data from the 92 images dataset (Kriegeskorte et al., 2008)."
   ]
  },
  {
   "cell_type": "code",
   "execution_count": null,
   "metadata": {},
   "outputs": [],
   "source": [
    "# supporting functions and constants\n",
    "DEMO_DIR = os.path.dirname(inspect.getfile(inspect.currentframe()))\n",
    "NEURON_DIR = os.path.join(DEMO_DIR, \"92imageData\")\n",
    "\n",
    "\n",
    "def neuron_2008_icons(**kwarg):\n",
    "    \"\"\" Load Krigeskorte et al. (2008, Neuron) images as Icon instances.\"\"\"\n",
    "    mat_path = os.path.join(NEURON_DIR, \"Kriegeskorte_Neuron2008_supplementalData.mat\")\n",
    "    mat = scipy.io.loadmat(mat_path)\n",
    "    colors = plt.get_cmap('Accent', lut=16).colors\n",
    "    markers = list(matplotlib.markers.MarkerStyle().markers.keys())\n",
    "    icons = defaultdict(list)\n",
    "    for this_struct in mat[\"stimuli_92objs\"][0]:\n",
    "        # we're going to treat the 4 binary indicators (human, face, animal, natural) as a\n",
    "        # base2 binary string, and index into this array of colors accordingly.\n",
    "        index = int(\"\".join(\n",
    "                     [\n",
    "                         str(this_struct[this_key][0,0]) for this_key in (\n",
    "                     'human', 'face', 'animal', 'natural')\n",
    "                     ]\n",
    "                 ),\n",
    "                                  base=2)\n",
    "        this_color = colors[index]\n",
    "        icons['image'].append(vis.Icon(image=this_struct['image'],\n",
    "                                       color=this_color,\n",
    "                                       circ_cut='cut',\n",
    "                                       border_type='conv',\n",
    "                                       border_width=5,\n",
    "                                       **kwarg))\n",
    "        icons['string'].append(vis.Icon(string=this_struct['category'][0],\n",
    "                                        color=this_color,\n",
    "                                        font_color=this_color,\n",
    "                                        **kwarg))\n",
    "        icons['marker'].append(vis.Icon(marker=markers[index],\n",
    "                                       color=this_color,\n",
    "                                       **kwarg))\n",
    "    return icons\n",
    "\n",
    "\n",
    "def neuron_2008_rdms_fmri(**kwarg):\n",
    "    \"\"\" Load Kriegeskorte et al. (2008, Neuron) fMRI RDMs as RDMs instance.\n",
    "    All key-word arguments are passed to neuron_2008_images.\"\"\"\n",
    "    mat_path = os.path.join(NEURON_DIR, \"92_brainRDMs.mat\")\n",
    "    mat = scipy.io.loadmat(mat_path)\n",
    "    icons = neuron_2008_icons(**kwarg)\n",
    "    # insert leading dim to conform with rsatoolbox nrdm x ncon x ncon convention\n",
    "    return rdm.concat(\n",
    "        [\n",
    "            rdm.RDMs(\n",
    "                dissimilarities=this_rdm[\"RDM\"][None, :, :],\n",
    "                dissimilarity_measure=\"1-rho\",\n",
    "                rdm_descriptors=dict(\n",
    "                    zip([\"ROI\", \"subject\", \"session\"], this_rdm[\"name\"][0].split(\" | \")),\n",
    "                    name=this_rdm[\"name\"][0]\n",
    "                ),\n",
    "                pattern_descriptors=icons\n",
    "            )\n",
    "            for this_rdm in mat[\"RDMs\"].flatten()\n",
    "        ]\n",
    "    )"
   ]
  },
  {
   "cell_type": "code",
   "execution_count": null,
   "metadata": {},
   "outputs": [],
   "source": [
    "# as an example, load the Kriegeskorte et al., 2008 fMRI RDMs\n",
    "rdms = neuron_2008_rdms_fmri()"
   ]
  },
  {
   "cell_type": "markdown",
   "metadata": {},
   "source": [
    "## Plotting RDMs with text labels"
   ]
  },
  {
   "cell_type": "code",
   "execution_count": null,
   "metadata": {},
   "outputs": [],
   "source": [
    "# to keep it simple, let's start with plotting the first 10 conditions \n",
    "rdms_small = rdms.subset_pattern('index', np.arange(10))\n",
    "rdms_small = rdm.rank_transform(rdms_small)\n",
    "rdms_small.dissimilarity_measure += \" (ranks)\""
   ]
  },
  {
   "cell_type": "code",
   "execution_count": null,
   "metadata": {},
   "outputs": [],
   "source": [
    "vis.show_rdm(rdms_small, rdm_descriptor='name', show_colorbar='figure', pattern_descriptor='index')\n",
    "None"
   ]
  },
  {
   "cell_type": "markdown",
   "metadata": {},
   "source": [
    "## Plotting with image labels\n",
    "It might help to put some image labels on..."
   ]
  },
  {
   "cell_type": "code",
   "execution_count": null,
   "metadata": {},
   "outputs": [],
   "source": [
    "vis.show_rdm(rdms_small,\n",
    "             rdm_descriptor='name',\n",
    "             show_colorbar='figure',\n",
    "             pattern_descriptor='image')\n",
    "None"
   ]
  },
  {
   "cell_type": "markdown",
   "metadata": {},
   "source": [
    "Notice how the image labels are scaled to avoid overlap. However, they are rather small. Grouping them might help us get away with larger images. We will also tweak `icon_spacing` to 10% overlap between the images."
   ]
  },
  {
   "cell_type": "code",
   "execution_count": null,
   "metadata": {},
   "outputs": [],
   "source": [
    "vis.show_rdm(rdms_small,\n",
    "             rdm_descriptor='name',\n",
    "             show_colorbar='figure',\n",
    "             pattern_descriptor='image',\n",
    "            num_pattern_groups=5,\n",
    "            icon_spacing=.9)\n",
    "None"
   ]
  },
  {
   "cell_type": "markdown",
   "metadata": {},
   "source": [
    "Now the images are very clear (maybe too big in fact, unless you are preparing a figure for a slideshow). Notice how `show_rdm` adds white gridlines to mark the label groups. If you like, you can control this behavior with the `gridlines` argument.\n",
    "\n",
    "For now though, let's scale up to the full insanity of 92 images..."
   ]
  },
  {
   "cell_type": "code",
   "execution_count": null,
   "metadata": {},
   "outputs": [],
   "source": [
    "# probably sane not to plot too many of these\n",
    "fig, ax, ret_val = vis.show_rdm(rdms[0],\n",
    "             rdm_descriptor='name',\n",
    "             pattern_descriptor='image',\n",
    "             num_pattern_groups=6,\n",
    "             icon_spacing=.9,\n",
    "             show_colorbar='panel',\n",
    "             vmin=0.,\n",
    "             n_column=1,\n",
    "             figsize=(10,10)\n",
    "            )"
   ]
  },
  {
   "cell_type": "markdown",
   "metadata": {},
   "source": [
    "Not too bad, considering how many images we are plotting. With this full view you can also see two other features that help guide the eye in large RDM visualisations:\n",
    "* A carefully selected `num_pattern_groups` parameter really helps with picking out interesting conditions (notice how the faces are in grids 3-4 and 7-8 above).\n",
    "* The `color` parameter that was used when instancing the Icons controls the color of the supporting lines and the circular outlines. This can also be used to convey category membership."
   ]
  },
  {
   "cell_type": "markdown",
   "metadata": {},
   "source": [
    "## Optimising image label display and saving figure\n",
    "In general, you can achieve larger, clearer image labels by\n",
    "* plotting fewer RDMs in the same figure\n",
    "* increasing `num_pattern_groups`\n",
    "* decreasing `icon_spacing`\n",
    "* adjusting `figsize`\n",
    "* increasing `dpi` when saving, see below"
   ]
  },
  {
   "cell_type": "code",
   "execution_count": null,
   "metadata": {},
   "outputs": [],
   "source": [
    "# to save the figure, remember to set bbox_inches='tight'.\n",
    "# (Otherwise the image labels may get cropped out)\n",
    "fig.savefig('temp_rdm.png', bbox_inches='tight', dpi=300)\n",
    "None"
   ]
  },
  {
   "cell_type": "markdown",
   "metadata": {},
   "source": [
    "The saved RDM image is plotted below. It may look quite a bit crisper than the inline view we generated previously.\n",
    "![rdm image](temp_rdm.png)"
   ]
  }
 ],
 "metadata": {
  "kernelspec": {
   "display_name": "Python 3",
   "language": "python",
   "name": "python3"
  },
  "language_info": {
   "codemirror_mode": {
    "name": "ipython",
    "version": 3
   },
   "file_extension": ".py",
   "mimetype": "text/x-python",
   "name": "python",
   "nbconvert_exporter": "python",
   "pygments_lexer": "ipython3",
   "version": "3.8.5"
  }
 },
 "nbformat": 4,
 "nbformat_minor": 4
}
